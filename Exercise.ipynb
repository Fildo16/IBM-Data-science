{
 "cells": [
  {
   "cell_type": "markdown",
   "id": "5e7480b9-6958-4e30-8fa9-a504b2e42db8",
   "metadata": {
    "tags": []
   },
   "source": [
    "# Data Science Tools and Ecosystem\n"
   ]
  },
  {
   "cell_type": "markdown",
   "id": "93078812-5fa6-4983-8f43-a7e38e67b224",
   "metadata": {},
   "source": [
    "\"Hello world!\""
   ]
  },
  {
   "cell_type": "markdown",
   "id": "2d6cc866-f9bd-40f7-8240-6c6bfe9c903a",
   "metadata": {},
   "source": [
    "Data science languagues\n",
    "\n",
    "1. Python 3 \n",
    "2. R"
   ]
  },
  {
   "cell_type": "markdown",
   "id": "1d2933ba-bd75-462c-a0a5-41bf3d90ce78",
   "metadata": {},
   "source": [
    "Data science libraries\n",
    "\n",
    "1. NumPy\n",
    "2. Pandas\n",
    "3. Seaborn\n",
    "4. Matplotlib\n",
    "5. Tensorflow"
   ]
  },
  {
   "cell_type": "markdown",
   "id": "13b10cb0-592a-477b-b7a8-1074662207ac",
   "metadata": {},
   "source": [
    "Data science tools\n",
    "\n",
    "1. RStudio\n",
    "2. Jupyter Notebooks\n",
    "3. Power Bl\n"
   ]
  },
  {
   "cell_type": "markdown",
   "id": "ab8e1fff-eb9b-4ded-a74d-96a57897f8ce",
   "metadata": {},
   "source": [
    "## Data science tools\n",
    "\n",
    "Tool|Description\n",
    "---|----\n",
    "Python|Some description\n",
    "R studio|Some description\n",
    "Excel|Some description\n",
    "Tableau|Some description"
   ]
  },
  {
   "cell_type": "markdown",
   "id": "d54e298e-4db4-4f0d-8f5a-9dcc0ef3cae0",
   "metadata": {},
   "source": [
    "# Arithmetic expression\n",
    "\n",
    "Arithmetic expressions are fundamental mathematical representations that involve numerical values, mathematical operators, and sometimes variables, forming the building blocks of various calculations and mathematical operations."
   ]
  },
  {
   "cell_type": "code",
   "execution_count": 8,
   "id": "5959e319-0485-4ad5-be63-a013f78efc1b",
   "metadata": {},
   "outputs": [
    {
     "name": "stdout",
     "output_type": "stream",
     "text": [
      "5 multiplied by 3 is: 15\n",
      "5 added to 3 is: 8\n"
     ]
    }
   ],
   "source": [
    "# Function to multiply two numbers\n",
    "def multiply(a, b):\n",
    "    return a * b\n",
    "\n",
    "# Function to add two numbers\n",
    "def add(a, b):\n",
    "    return a + b\n",
    "\n",
    "# Example usage:\n",
    "num1 = 5\n",
    "num2 = 3\n",
    "\n",
    "result_multiply = multiply(num1, num2)\n",
    "result_add = add(num1, num2)\n",
    "\n",
    "print(f\"{num1} multiplied by {num2} is: {result_multiply}\")\n",
    "print(f\"{num1} added to {num2} is: {result_add}\")"
   ]
  },
  {
   "cell_type": "code",
   "execution_count": 9,
   "id": "d522461b-803d-4162-b92f-439adb6d601c",
   "metadata": {},
   "outputs": [
    {
     "name": "stdout",
     "output_type": "stream",
     "text": [
      "135 minutes is equal to 2 hours and 15 minutes\n"
     ]
    }
   ],
   "source": [
    "def minutes_to_hours(minutes):\n",
    "    hours = minutes // 60\n",
    "    remaining_minutes = minutes % 60\n",
    "    return f\"{hours} hours and {remaining_minutes} minutes\"\n",
    "\n",
    "# Example usage:\n",
    "minutes_input = 135\n",
    "\n",
    "result = minutes_to_hours(minutes_input)\n",
    "print(f\"{minutes_input} minutes is equal to {result}\")\n"
   ]
  },
  {
   "cell_type": "markdown",
   "id": "0534b279-ac20-4faa-806c-323a18c1d400",
   "metadata": {},
   "source": [
    "# sentence\n",
    "\n",
    "* Item 1\n",
    "* Item 2\n",
    "* Item 3\n"
   ]
  },
  {
   "cell_type": "markdown",
   "id": "e04c955c-32b1-4c37-9b6b-ab0b6e914086",
   "metadata": {},
   "source": [
    "# Author(s)\n",
    "\n",
    "Filip Németh\n"
   ]
  },
  {
   "cell_type": "code",
   "execution_count": null,
   "id": "7dabda5b-0924-41dd-bbfb-838b07c1f5bd",
   "metadata": {},
   "outputs": [],
   "source": []
  }
 ],
 "metadata": {
  "kernelspec": {
   "display_name": "Python 3 (ipykernel)",
   "language": "python",
   "name": "python3"
  },
  "language_info": {
   "codemirror_mode": {
    "name": "ipython",
    "version": 3
   },
   "file_extension": ".py",
   "mimetype": "text/x-python",
   "name": "python",
   "nbconvert_exporter": "python",
   "pygments_lexer": "ipython3",
   "version": "3.9.16"
  }
 },
 "nbformat": 4,
 "nbformat_minor": 5
}
